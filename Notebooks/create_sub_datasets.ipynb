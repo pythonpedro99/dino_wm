{
 "cells": [
  {
   "cell_type": "code",
   "execution_count": null,
   "id": "5e017e12",
   "metadata": {},
   "outputs": [
    {
     "name": "stdout",
     "output_type": "stream",
     "text": [
      "Subset creation complete.\n"
     ]
    }
   ],
   "source": [
    "import os\n",
    "import json\n",
    "import shutil\n",
    "\n",
    "# Configuration\n",
    "source_dir = '/Users/julianquast/Downloads/rearrange_200_v1_zip/rearrange_200_v1'\n",
    "subset_sizes = [2000]\n",
    "target_prefix = 'rearrange_'\n",
    "\n",
    "# Load metadata\n",
    "with open(os.path.join(source_dir, 'metadata.json'), 'r') as f:\n",
    "    metadata = json.load(f)\n",
    "\n",
    "# Create subsets\n",
    "for size in subset_sizes:\n",
    "    subset_name = f\"{target_prefix}{size}\"\n",
    "    os.makedirs(subset_name, exist_ok=True)\n",
    "    os.makedirs(os.path.join(subset_name, 'episodes'), exist_ok=True)\n",
    "\n",
    "    # Subset episodes\n",
    "    episodes_subset = metadata['episodes'][:size]\n",
    "\n",
    "    for ep in episodes_subset:\n",
    "        ep_folder = f\"ep_{ep['episode']:04d}\"\n",
    "        src = os.path.join(source_dir, 'episodes', ep_folder)\n",
    "        dst = os.path.join(subset_name, 'episodes', ep_folder)\n",
    "        shutil.copytree(src, dst)\n",
    "\n",
    "    # Save new metadata\n",
    "    new_metadata = {\n",
    "        \"env_id\": metadata[\"env_id\"],\n",
    "        \"master_seed\": metadata[\"master_seed\"],\n",
    "        \"episodes\": episodes_subset\n",
    "    }\n",
    "    with open(os.path.join(subset_name, 'metadata.json'), 'w') as f:\n",
    "        json.dump(new_metadata, f, indent=2)\n",
    "\n",
    "print(\"Subset creation complete.\")\n"
   ]
  }
 ],
 "metadata": {
  "kernelspec": {
   "display_name": "base_env",
   "language": "python",
   "name": "python3"
  },
  "language_info": {
   "codemirror_mode": {
    "name": "ipython",
    "version": 3
   },
   "file_extension": ".py",
   "mimetype": "text/x-python",
   "name": "python",
   "nbconvert_exporter": "python",
   "pygments_lexer": "ipython3",
   "version": "3.12.11"
  }
 },
 "nbformat": 4,
 "nbformat_minor": 5
}
